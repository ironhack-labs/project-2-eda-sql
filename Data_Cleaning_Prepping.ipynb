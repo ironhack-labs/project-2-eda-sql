{
 "cells": [
  {
   "cell_type": "code",
   "execution_count": 3,
   "id": "1ae37a48-39c2-44d1-8160-61f07cc8ae24",
   "metadata": {},
   "outputs": [],
   "source": [
    "# This code prepares the Maven Coffee House data for analysis.\n",
    "\n",
    "import pymysql\n",
    "import pandas as pd"
   ]
  },
  {
   "cell_type": "code",
   "execution_count": 5,
   "id": "6aae94de-7b81-4f7b-9c2f-588bd95ca4be",
   "metadata": {},
   "outputs": [],
   "source": [
    "# The transactions, products, and stores tables are read from the original EXCEL file.\n",
    "\n",
    "# The data is read using pandas and specifying their corresponding sheet names\n",
    "transactions = pd.read_excel(\n",
    "    \"/Users/sylviaperez-montero/Desktop/DDEC_Bootcamp/project-2-eda-sql-master/data/maven_coffee_data.xlsx\", \n",
    "    sheet_name=\"transactions\"\n",
    ")\n",
    "stores = pd.read_excel(\n",
    "    \"/Users/sylviaperez-montero/Desktop/DDEC_Bootcamp/project-2-eda-sql-master/data/maven_coffee_data.xlsx\", \n",
    "    sheet_name=\"stores\"\n",
    ")\n",
    "products = pd.read_excel(\n",
    "    \"/Users/sylviaperez-montero/Desktop/DDEC_Bootcamp/project-2-eda-sql-master/data/maven_coffee_data.xlsx\", \n",
    "    sheet_name=\"products\"\n",
    ")"
   ]
  },
  {
   "cell_type": "code",
   "execution_count": 6,
   "id": "cf10cb5d-620a-41f5-8332-5563cc40af78",
   "metadata": {},
   "outputs": [
    {
     "name": "stdout",
     "output_type": "stream",
     "text": [
      "Transactions columns: Index(['transaction_id', 'transaction_date', 'transaction_time',\n",
      "       'transaction_qty', 'store_id', 'product_id', ' unit_price'],\n",
      "      dtype='object')\n",
      "Stores columns: Index(['store_id', 'location'], dtype='object')\n",
      "Products columns: Index(['product_id', 'p_unit_price', 'product_category', 'product_type',\n",
      "       'product_detail'],\n",
      "      dtype='object')\n"
     ]
    }
   ],
   "source": [
    "# Does a preliminary check on each table's titles\n",
    "print(\"Transactions columns:\", transactions.columns)\n",
    "print(\"Stores columns:\", stores.columns)\n",
    "print(\"Products columns:\", products.columns)"
   ]
  },
  {
   "cell_type": "code",
   "execution_count": 7,
   "id": "58fa4716-25da-40cc-b48b-cd7d8f477c46",
   "metadata": {},
   "outputs": [],
   "source": [
    "# Drop duplicates in each table, to make sure there are no duplicate primary keys\n",
    "transactions = transactions.drop_duplicates(subset='transaction_id')\n",
    "stores = stores.rename(columns={'location': 'store_location'})\n",
    "stores = stores.drop_duplicates(subset='store_id')\n",
    "products = products.drop_duplicates(subset='product_id')\n",
    "\n",
    "#Renames the prod_id variable in the database.\n",
    "products = products.rename(columns={'product_id': 'prod_id'})"
   ]
  },
  {
   "cell_type": "code",
   "execution_count": 8,
   "id": "60fd3519-7478-4868-b213-6b27458320f9",
   "metadata": {},
   "outputs": [],
   "source": [
    "# Authentication\n",
    "cnx = pymysql.connect(user='root', password='Bobby',\n",
    "                      host='localhost', database='maven2')"
   ]
  },
  {
   "cell_type": "code",
   "execution_count": 13,
   "id": "7df92257-24df-48c9-94f3-47c9a156b2d0",
   "metadata": {},
   "outputs": [
    {
     "name": "stdout",
     "output_type": "stream",
     "text": [
      "Connection open\n"
     ]
    }
   ],
   "source": [
    "# Checks whether the connection is open or closed so appropriate action can be taken.\n",
    "if cnx.open:\n",
    "    print(\"Connection open\")\n",
    "else:\n",
    "    print(\"Connection is not successfully open\")\n",
    "\n",
    "# Creating cursor object to interact with database\n",
    "cursor = cnx.cursor()"
   ]
  },
  {
   "cell_type": "code",
   "execution_count": 15,
   "id": "aed7255b-f3db-4d5d-9290-5c38db0a6a45",
   "metadata": {},
   "outputs": [
    {
     "data": {
      "text/plain": [
       "0"
      ]
     },
     "execution_count": 15,
     "metadata": {},
     "output_type": "execute_result"
    }
   ],
   "source": [
    "# Creates the transactions table\n",
    "query_transactions = \"\"\"\n",
    "CREATE TABLE IF NOT EXISTS maven2.transactions (\n",
    "    transaction_id VARCHAR(20) PRIMARY KEY,\n",
    "    transaction_date DATE NOT NULL,\n",
    "    transaction_time VARCHAR(30) NOT NULL,\n",
    "    transaction_qty VARCHAR(100) NOT NULL,\n",
    "    store_id VARCHAR(10) NOT NULL,\n",
    "    product_id VARCHAR(52) NOT NULL,\n",
    "    unit_price DECIMAL(10, 2) NOT NULL\n",
    ");\n",
    "\"\"\"\n",
    "cursor.execute(query_transactions)"
   ]
  },
  {
   "cell_type": "code",
   "execution_count": 17,
   "id": "18bae012-18b4-4e49-83a8-dc85bffa092c",
   "metadata": {},
   "outputs": [
    {
     "data": {
      "text/plain": [
       "0"
      ]
     },
     "execution_count": 17,
     "metadata": {},
     "output_type": "execute_result"
    }
   ],
   "source": [
    "# Creates the products table\n",
    "query_products = \"\"\"\n",
    "CREATE TABLE IF NOT EXISTS maven2.products (\n",
    "    prod_id VARCHAR(52) PRIMARY KEY,\n",
    "    product_category VARCHAR(50) NOT NULL,\n",
    "    product_type VARCHAR(50) NOT NULL,\n",
    "    p_unit_price DECIMAL(10, 2) NOT NULL,\n",
    "    product_detail VARCHAR(100) NOT NULL\n",
    ");\n",
    "\"\"\"\n",
    "cursor.execute(query_products)"
   ]
  },
  {
   "cell_type": "code",
   "execution_count": 19,
   "id": "4e2d94b6-3d5e-4313-8d49-713c5d69ebe6",
   "metadata": {},
   "outputs": [
    {
     "data": {
      "text/plain": [
       "0"
      ]
     },
     "execution_count": 19,
     "metadata": {},
     "output_type": "execute_result"
    }
   ],
   "source": [
    "# Creates the stores table\n",
    "query_stores = \"\"\"\n",
    "CREATE TABLE IF NOT EXISTS maven2.stores (\n",
    "    store_id VARCHAR(10) PRIMARY KEY,\n",
    "    store_location VARCHAR(50) NOT NULL\n",
    ");\n",
    "\"\"\"\n",
    "cursor.execute(query_stores)\n"
   ]
  },
  {
   "cell_type": "code",
   "execution_count": 21,
   "id": "ed3c2a40-4a7f-46cb-a2ee-dc58c899d533",
   "metadata": {},
   "outputs": [],
   "source": [
    "# Commits the changes for the table creation\n",
    "cnx.commit()"
   ]
  },
  {
   "cell_type": "code",
   "execution_count": 23,
   "id": "d6325774-3bbc-4d0e-b4f9-3b6416067f82",
   "metadata": {},
   "outputs": [],
   "source": [
    "# Adds the rows and entries to our tables\n",
    "data = [transactions, stores, products]  # List of DataFrames\n",
    "data_title = ['transactions', 'stores', 'products']  # Corresponding table names\n",
    "\n",
    "# print(df.head())"
   ]
  },
  {
   "cell_type": "code",
   "execution_count": 25,
   "id": "dcc8203d-1e62-4268-96c4-083e1a72d773",
   "metadata": {},
   "outputs": [
    {
     "name": "stdout",
     "output_type": "stream",
     "text": [
      "Columns in transactions: ['transaction_id', 'transaction_date', 'transaction_time', 'transaction_qty', 'store_id', 'product_id', ' unit_price']\n",
      "Columns in stores: ['store_id', 'store_location']\n",
      "Columns in products: ['prod_id', 'p_unit_price', 'product_category', 'product_type', 'product_detail']\n",
      "Database operations completed successfully.\n"
     ]
    }
   ],
   "source": [
    "#columns = transactions.columns\n",
    "\n",
    "for df, table_name in zip(data, data_title):\n",
    "    print(f\"Columns in {table_name}: {df.columns.tolist()}\")\n",
    "\n",
    "# Adding the rows and entries to our tables\n",
    "#for df, table_name in zip(data, data_title):\n",
    "# Extract column names once for all rows\n",
    "columns = ', '.join(df.columns)\n",
    "placeholders = ', '.join(['%s'] * len(df.columns))\n",
    "\n",
    "df = df.loc[:, ~df.columns.duplicated()]\n",
    "\n",
    "# Construct the SQL query template\n",
    "sql = f\"INSERT IGNORE INTO maven2.{table_name} ({columns}) VALUES ({placeholders})\"\n",
    "    \n",
    "for _, row in df.iterrows():\n",
    "    # Convert row to a tuple to pass to the query\n",
    "    cursor.execute(sql, tuple(row))\n",
    "\n",
    "# Commit changes\n",
    "cnx.commit()\n",
    "\n",
    "# Close the connection\n",
    "#cursor.close()\n",
    "#cnx.close()\n",
    "\n",
    "print(\"Database operations completed successfully.\")"
   ]
  },
  {
   "cell_type": "code",
   "execution_count": 27,
   "id": "36f7d846-c723-40b9-9717-a9fda41b6d90",
   "metadata": {},
   "outputs": [
    {
     "ename": "NameError",
     "evalue": "name 'table' is not defined",
     "output_type": "error",
     "traceback": [
      "\u001b[0;31m---------------------------------------------------------------------------\u001b[0m",
      "\u001b[0;31mNameError\u001b[0m                                 Traceback (most recent call last)",
      "Cell \u001b[0;32mIn[27], line 5\u001b[0m\n\u001b[1;32m      2\u001b[0m data \u001b[38;5;241m=\u001b[39m [products, transactions, stores]\n\u001b[1;32m      3\u001b[0m data_title \u001b[38;5;241m=\u001b[39m [\u001b[38;5;124m'\u001b[39m\u001b[38;5;124mproducts\u001b[39m\u001b[38;5;124m'\u001b[39m, \u001b[38;5;124m'\u001b[39m\u001b[38;5;124mtransactions\u001b[39m\u001b[38;5;124m'\u001b[39m, \u001b[38;5;124m'\u001b[39m\u001b[38;5;124mstores\u001b[39m\u001b[38;5;124m'\u001b[39m]\n\u001b[0;32m----> 5\u001b[0m table \u001b[38;5;241m=\u001b[39m table\u001b[38;5;241m.\u001b[39mloc[:, \u001b[38;5;241m~\u001b[39mtable\u001b[38;5;241m.\u001b[39mcolumns\u001b[38;5;241m.\u001b[39mduplicated()]\n\u001b[1;32m      7\u001b[0m \u001b[38;5;66;03m# Loop over tables and data\u001b[39;00m\n\u001b[1;32m      8\u001b[0m \u001b[38;5;28;01mfor\u001b[39;00m j \u001b[38;5;129;01min\u001b[39;00m \u001b[38;5;28mrange\u001b[39m(\u001b[38;5;28mlen\u001b[39m(data)):    \n",
      "\u001b[0;31mNameError\u001b[0m: name 'table' is not defined"
     ]
    }
   ],
   "source": [
    "# Finally, add the rows and entries to our tables\n",
    "data = [products, transactions, stores]\n",
    "data_title = ['products', 'transactions', 'stores']\n",
    "\n",
    "table = table.loc[:, ~table.columns.duplicated()]\n",
    "\n",
    "# Loop over tables and data\n",
    "for j in range(len(data)):    \n",
    "    table = data[j]  # Get the table\n",
    "    columns = table.columns  # Get column names\n",
    "    parameter = \", \".join(list(columns))  # Create a string for the list of columns\n",
    "    param_2 = (\"%s, \" * len(columns))[:-2]  # Create the placeholder for the values\n",
    "    \n",
    "    # Create the query for the table\n",
    "    query = f\"INSERT IGNORE INTO maven2.{data_title[j]} ({parameter}) VALUES ({param_2})\"\n",
    "    \n",
    "    for i in range(len(data[j])):\n",
    "        row = tuple(table.iloc[i])  # Convert row to a tuple\n",
    "        try:\n",
    "            # Execute the query with row data\n",
    "            cursor.execute(query, row)\n",
    "        except Exception as e:\n",
    "            print(f\"Error inserting row {row} into {data_title[j]}: {e}\")\n",
    "\n",
    "# Commit changes\n",
    "cnx.commit()\n",
    "\n",
    "# Close the connection\n",
    "cursor.close()\n",
    "cnx.close()\n",
    "\n",
    "print(\"Database operations completed successfully.\")"
   ]
  },
  {
   "cell_type": "code",
   "execution_count": 29,
   "id": "e199c1fa-57f1-44b0-a260-ef29c9b78970",
   "metadata": {},
   "outputs": [
    {
     "name": "stdout",
     "output_type": "stream",
     "text": [
      "<class 'pandas.core.frame.DataFrame'>\n",
      "RangeIndex: 149116 entries, 0 to 149115\n",
      "Data columns (total 7 columns):\n",
      " #   Column            Non-Null Count   Dtype         \n",
      "---  ------            --------------   -----         \n",
      " 0   transaction_id    149116 non-null  int64         \n",
      " 1   transaction_date  149116 non-null  datetime64[ns]\n",
      " 2   transaction_time  149116 non-null  object        \n",
      " 3   transaction_qty   149116 non-null  int64         \n",
      " 4   store_id          149116 non-null  int64         \n",
      " 5   product_id        149116 non-null  int64         \n",
      " 6    unit_price       149116 non-null  float64       \n",
      "dtypes: datetime64[ns](1), float64(1), int64(4), object(1)\n",
      "memory usage: 8.0+ MB\n"
     ]
    }
   ],
   "source": [
    "transactions.info()"
   ]
  },
  {
   "cell_type": "code",
   "execution_count": 32,
   "id": "a16b493a-ed3c-42c4-9e52-6148416c174a",
   "metadata": {},
   "outputs": [
    {
     "name": "stdout",
     "output_type": "stream",
     "text": [
      "<class 'pandas.core.frame.DataFrame'>\n",
      "RangeIndex: 80 entries, 0 to 79\n",
      "Data columns (total 5 columns):\n",
      " #   Column            Non-Null Count  Dtype  \n",
      "---  ------            --------------  -----  \n",
      " 0   prod_id           80 non-null     int64  \n",
      " 1   p_unit_price      80 non-null     float64\n",
      " 2   product_category  80 non-null     object \n",
      " 3   product_type      80 non-null     object \n",
      " 4   product_detail    80 non-null     object \n",
      "dtypes: float64(1), int64(1), object(3)\n",
      "memory usage: 3.3+ KB\n"
     ]
    }
   ],
   "source": [
    "products.info()"
   ]
  },
  {
   "cell_type": "code",
   "execution_count": 34,
   "id": "36c7fb3a-b311-4d30-b104-b72ef124bc02",
   "metadata": {
    "scrolled": true
   },
   "outputs": [
    {
     "name": "stdout",
     "output_type": "stream",
     "text": [
      "<class 'pandas.core.frame.DataFrame'>\n",
      "RangeIndex: 3 entries, 0 to 2\n",
      "Data columns (total 2 columns):\n",
      " #   Column          Non-Null Count  Dtype \n",
      "---  ------          --------------  ----- \n",
      " 0   store_id        3 non-null      int64 \n",
      " 1   store_location  3 non-null      object\n",
      "dtypes: int64(1), object(1)\n",
      "memory usage: 180.0+ bytes\n"
     ]
    }
   ],
   "source": [
    "stores.info()"
   ]
  },
  {
   "cell_type": "code",
   "execution_count": 38,
   "id": "0c3754a4-f40e-40ca-9159-c12b5442eb11",
   "metadata": {
    "scrolled": true
   },
   "outputs": [
    {
     "data": {
      "text/plain": [
       "transaction_id      0\n",
       "transaction_date    0\n",
       "transaction_time    0\n",
       "transaction_qty     0\n",
       "store_id            0\n",
       "product_id          0\n",
       " unit_price         0\n",
       "dtype: int64"
      ]
     },
     "execution_count": 38,
     "metadata": {},
     "output_type": "execute_result"
    }
   ],
   "source": [
    "transactions.isnull().sum()"
   ]
  },
  {
   "cell_type": "code",
   "execution_count": 40,
   "id": "37465421-ab08-4e0d-80c6-7ce13c5c8b3e",
   "metadata": {},
   "outputs": [
    {
     "data": {
      "text/plain": [
       "prod_id             0\n",
       "p_unit_price        0\n",
       "product_category    0\n",
       "product_type        0\n",
       "product_detail      0\n",
       "dtype: int64"
      ]
     },
     "execution_count": 40,
     "metadata": {},
     "output_type": "execute_result"
    }
   ],
   "source": [
    "products.isnull().sum()"
   ]
  },
  {
   "cell_type": "code",
   "execution_count": 42,
   "id": "cdd0d88d-95b5-465b-83e7-73a4e3fdea16",
   "metadata": {},
   "outputs": [
    {
     "data": {
      "text/plain": [
       "store_id          0\n",
       "store_location    0\n",
       "dtype: int64"
      ]
     },
     "execution_count": 42,
     "metadata": {},
     "output_type": "execute_result"
    }
   ],
   "source": [
    "stores.isnull().sum()"
   ]
  },
  {
   "cell_type": "code",
   "execution_count": null,
   "id": "805bc839-815a-404e-8bdc-9c6c8f6004e7",
   "metadata": {},
   "outputs": [],
   "source": []
  }
 ],
 "metadata": {
  "kernelspec": {
   "display_name": "Python 3 (ipykernel)",
   "language": "python",
   "name": "python3"
  },
  "language_info": {
   "codemirror_mode": {
    "name": "ipython",
    "version": 3
   },
   "file_extension": ".py",
   "mimetype": "text/x-python",
   "name": "python",
   "nbconvert_exporter": "python",
   "pygments_lexer": "ipython3",
   "version": "3.12.7"
  }
 },
 "nbformat": 4,
 "nbformat_minor": 5
}
