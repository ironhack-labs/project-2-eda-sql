{
 "cells": [
  {
   "cell_type": "code",
   "execution_count": 1,
   "metadata": {},
   "outputs": [],
   "source": [
    "import pandas as pd\n",
    "import numpy as np\n",
    "import matplotlib.pyplot as plt\n",
    "import seaborn as sns"
   ]
  },
  {
   "cell_type": "markdown",
   "metadata": {},
   "source": [
    "# Load the data set"
   ]
  },
  {
   "cell_type": "code",
   "execution_count": 2,
   "metadata": {},
   "outputs": [
    {
     "name": "stderr",
     "output_type": "stream",
     "text": [
      "<>:1: SyntaxWarning: invalid escape sequence '\\e'\n",
      "<>:1: SyntaxWarning: invalid escape sequence '\\e'\n",
      "C:\\Users\\crvid\\AppData\\Local\\Temp\\ipykernel_31944\\3808636074.py:1: SyntaxWarning: invalid escape sequence '\\e'\n",
      "  employee = pd.read_csv(\"dataset\\employee.csv\")\n"
     ]
    }
   ],
   "source": [
    "employee = pd.read_csv(\"dataset\\employee.csv\")"
   ]
  },
  {
   "cell_type": "markdown",
   "metadata": {},
   "source": [
    "# 1. Exploratory Data Analysis"
   ]
  },
  {
   "cell_type": "code",
   "execution_count": 3,
   "metadata": {},
   "outputs": [
    {
     "data": {
      "text/html": [
       "<div>\n",
       "<style scoped>\n",
       "    .dataframe tbody tr th:only-of-type {\n",
       "        vertical-align: middle;\n",
       "    }\n",
       "\n",
       "    .dataframe tbody tr th {\n",
       "        vertical-align: top;\n",
       "    }\n",
       "\n",
       "    .dataframe thead th {\n",
       "        text-align: right;\n",
       "    }\n",
       "</style>\n",
       "<table border=\"1\" class=\"dataframe\">\n",
       "  <thead>\n",
       "    <tr style=\"text-align: right;\">\n",
       "      <th></th>\n",
       "      <th>Employee_ID</th>\n",
       "      <th>Department</th>\n",
       "      <th>Gender</th>\n",
       "      <th>Age</th>\n",
       "      <th>Job_Title</th>\n",
       "      <th>Hire_Date</th>\n",
       "      <th>Years_At_Company</th>\n",
       "      <th>Education_Level</th>\n",
       "      <th>Performance_Score</th>\n",
       "      <th>Monthly_Salary</th>\n",
       "      <th>Work_Hours_Per_Week</th>\n",
       "      <th>Projects_Handled</th>\n",
       "      <th>Overtime_Hours</th>\n",
       "      <th>Sick_Days</th>\n",
       "      <th>Remote_Work_Frequency</th>\n",
       "      <th>Team_Size</th>\n",
       "      <th>Training_Hours</th>\n",
       "      <th>Promotions</th>\n",
       "      <th>Employee_Satisfaction_Score</th>\n",
       "      <th>Resigned</th>\n",
       "    </tr>\n",
       "  </thead>\n",
       "  <tbody>\n",
       "    <tr>\n",
       "      <th>0</th>\n",
       "      <td>1</td>\n",
       "      <td>IT</td>\n",
       "      <td>Male</td>\n",
       "      <td>55</td>\n",
       "      <td>Specialist</td>\n",
       "      <td>2022-01-19 08:03:05.556036</td>\n",
       "      <td>2</td>\n",
       "      <td>High School</td>\n",
       "      <td>5</td>\n",
       "      <td>6750.0</td>\n",
       "      <td>33</td>\n",
       "      <td>32</td>\n",
       "      <td>22</td>\n",
       "      <td>2</td>\n",
       "      <td>0</td>\n",
       "      <td>14</td>\n",
       "      <td>66</td>\n",
       "      <td>0</td>\n",
       "      <td>2.63</td>\n",
       "      <td>False</td>\n",
       "    </tr>\n",
       "    <tr>\n",
       "      <th>1</th>\n",
       "      <td>2</td>\n",
       "      <td>Finance</td>\n",
       "      <td>Male</td>\n",
       "      <td>29</td>\n",
       "      <td>Developer</td>\n",
       "      <td>2024-04-18 08:03:05.556036</td>\n",
       "      <td>0</td>\n",
       "      <td>High School</td>\n",
       "      <td>5</td>\n",
       "      <td>7500.0</td>\n",
       "      <td>34</td>\n",
       "      <td>34</td>\n",
       "      <td>13</td>\n",
       "      <td>14</td>\n",
       "      <td>100</td>\n",
       "      <td>12</td>\n",
       "      <td>61</td>\n",
       "      <td>2</td>\n",
       "      <td>1.72</td>\n",
       "      <td>False</td>\n",
       "    </tr>\n",
       "    <tr>\n",
       "      <th>2</th>\n",
       "      <td>3</td>\n",
       "      <td>Finance</td>\n",
       "      <td>Male</td>\n",
       "      <td>55</td>\n",
       "      <td>Specialist</td>\n",
       "      <td>2015-10-26 08:03:05.556036</td>\n",
       "      <td>8</td>\n",
       "      <td>High School</td>\n",
       "      <td>3</td>\n",
       "      <td>5850.0</td>\n",
       "      <td>37</td>\n",
       "      <td>27</td>\n",
       "      <td>6</td>\n",
       "      <td>3</td>\n",
       "      <td>50</td>\n",
       "      <td>10</td>\n",
       "      <td>1</td>\n",
       "      <td>0</td>\n",
       "      <td>3.17</td>\n",
       "      <td>False</td>\n",
       "    </tr>\n",
       "    <tr>\n",
       "      <th>3</th>\n",
       "      <td>4</td>\n",
       "      <td>Customer Support</td>\n",
       "      <td>Female</td>\n",
       "      <td>48</td>\n",
       "      <td>Analyst</td>\n",
       "      <td>2016-10-22 08:03:05.556036</td>\n",
       "      <td>7</td>\n",
       "      <td>Bachelor</td>\n",
       "      <td>2</td>\n",
       "      <td>4800.0</td>\n",
       "      <td>52</td>\n",
       "      <td>10</td>\n",
       "      <td>28</td>\n",
       "      <td>12</td>\n",
       "      <td>100</td>\n",
       "      <td>10</td>\n",
       "      <td>0</td>\n",
       "      <td>1</td>\n",
       "      <td>1.86</td>\n",
       "      <td>False</td>\n",
       "    </tr>\n",
       "    <tr>\n",
       "      <th>4</th>\n",
       "      <td>5</td>\n",
       "      <td>Engineering</td>\n",
       "      <td>Female</td>\n",
       "      <td>36</td>\n",
       "      <td>Analyst</td>\n",
       "      <td>2021-07-23 08:03:05.556036</td>\n",
       "      <td>3</td>\n",
       "      <td>Bachelor</td>\n",
       "      <td>2</td>\n",
       "      <td>4800.0</td>\n",
       "      <td>38</td>\n",
       "      <td>11</td>\n",
       "      <td>29</td>\n",
       "      <td>13</td>\n",
       "      <td>100</td>\n",
       "      <td>15</td>\n",
       "      <td>9</td>\n",
       "      <td>1</td>\n",
       "      <td>1.25</td>\n",
       "      <td>False</td>\n",
       "    </tr>\n",
       "  </tbody>\n",
       "</table>\n",
       "</div>"
      ],
      "text/plain": [
       "   Employee_ID        Department  Gender  Age   Job_Title  \\\n",
       "0            1                IT    Male   55  Specialist   \n",
       "1            2           Finance    Male   29   Developer   \n",
       "2            3           Finance    Male   55  Specialist   \n",
       "3            4  Customer Support  Female   48     Analyst   \n",
       "4            5       Engineering  Female   36     Analyst   \n",
       "\n",
       "                    Hire_Date  Years_At_Company Education_Level  \\\n",
       "0  2022-01-19 08:03:05.556036                 2     High School   \n",
       "1  2024-04-18 08:03:05.556036                 0     High School   \n",
       "2  2015-10-26 08:03:05.556036                 8     High School   \n",
       "3  2016-10-22 08:03:05.556036                 7        Bachelor   \n",
       "4  2021-07-23 08:03:05.556036                 3        Bachelor   \n",
       "\n",
       "   Performance_Score  Monthly_Salary  Work_Hours_Per_Week  Projects_Handled  \\\n",
       "0                  5          6750.0                   33                32   \n",
       "1                  5          7500.0                   34                34   \n",
       "2                  3          5850.0                   37                27   \n",
       "3                  2          4800.0                   52                10   \n",
       "4                  2          4800.0                   38                11   \n",
       "\n",
       "   Overtime_Hours  Sick_Days  Remote_Work_Frequency  Team_Size  \\\n",
       "0              22          2                      0         14   \n",
       "1              13         14                    100         12   \n",
       "2               6          3                     50         10   \n",
       "3              28         12                    100         10   \n",
       "4              29         13                    100         15   \n",
       "\n",
       "   Training_Hours  Promotions  Employee_Satisfaction_Score  Resigned  \n",
       "0              66           0                         2.63     False  \n",
       "1              61           2                         1.72     False  \n",
       "2               1           0                         3.17     False  \n",
       "3               0           1                         1.86     False  \n",
       "4               9           1                         1.25     False  "
      ]
     },
     "execution_count": 3,
     "metadata": {},
     "output_type": "execute_result"
    }
   ],
   "source": [
    "# Display the first few rows\n",
    "employee.head()\n"
   ]
  },
  {
   "cell_type": "code",
   "execution_count": 4,
   "metadata": {},
   "outputs": [
    {
     "data": {
      "text/html": [
       "<div>\n",
       "<style scoped>\n",
       "    .dataframe tbody tr th:only-of-type {\n",
       "        vertical-align: middle;\n",
       "    }\n",
       "\n",
       "    .dataframe tbody tr th {\n",
       "        vertical-align: top;\n",
       "    }\n",
       "\n",
       "    .dataframe thead th {\n",
       "        text-align: right;\n",
       "    }\n",
       "</style>\n",
       "<table border=\"1\" class=\"dataframe\">\n",
       "  <thead>\n",
       "    <tr style=\"text-align: right;\">\n",
       "      <th></th>\n",
       "      <th>Employee_ID</th>\n",
       "      <th>Age</th>\n",
       "      <th>Years_At_Company</th>\n",
       "      <th>Performance_Score</th>\n",
       "      <th>Monthly_Salary</th>\n",
       "      <th>Work_Hours_Per_Week</th>\n",
       "      <th>Projects_Handled</th>\n",
       "      <th>Overtime_Hours</th>\n",
       "      <th>Sick_Days</th>\n",
       "      <th>Remote_Work_Frequency</th>\n",
       "      <th>Team_Size</th>\n",
       "      <th>Training_Hours</th>\n",
       "      <th>Promotions</th>\n",
       "      <th>Employee_Satisfaction_Score</th>\n",
       "    </tr>\n",
       "  </thead>\n",
       "  <tbody>\n",
       "    <tr>\n",
       "      <th>count</th>\n",
       "      <td>1999.000000</td>\n",
       "      <td>1999.000000</td>\n",
       "      <td>1999.000000</td>\n",
       "      <td>1999.000000</td>\n",
       "      <td>1999.000000</td>\n",
       "      <td>1999.000000</td>\n",
       "      <td>1999.000000</td>\n",
       "      <td>1999.00000</td>\n",
       "      <td>1999.00000</td>\n",
       "      <td>1999.000000</td>\n",
       "      <td>1999.000000</td>\n",
       "      <td>1999.000000</td>\n",
       "      <td>1999.000000</td>\n",
       "      <td>1999.000000</td>\n",
       "    </tr>\n",
       "    <tr>\n",
       "      <th>mean</th>\n",
       "      <td>1000.000000</td>\n",
       "      <td>40.743372</td>\n",
       "      <td>4.564782</td>\n",
       "      <td>2.963482</td>\n",
       "      <td>6394.222111</td>\n",
       "      <td>44.859930</td>\n",
       "      <td>23.771886</td>\n",
       "      <td>14.55978</td>\n",
       "      <td>6.90095</td>\n",
       "      <td>50.475238</td>\n",
       "      <td>10.028514</td>\n",
       "      <td>49.097549</td>\n",
       "      <td>0.983492</td>\n",
       "      <td>2.982141</td>\n",
       "    </tr>\n",
       "    <tr>\n",
       "      <th>std</th>\n",
       "      <td>577.205914</td>\n",
       "      <td>10.933536</td>\n",
       "      <td>2.833851</td>\n",
       "      <td>1.396466</td>\n",
       "      <td>1381.499701</td>\n",
       "      <td>8.855213</td>\n",
       "      <td>14.223723</td>\n",
       "      <td>8.67863</td>\n",
       "      <td>4.33855</td>\n",
       "      <td>35.519867</td>\n",
       "      <td>5.475369</td>\n",
       "      <td>28.991300</td>\n",
       "      <td>0.813566</td>\n",
       "      <td>1.141426</td>\n",
       "    </tr>\n",
       "    <tr>\n",
       "      <th>min</th>\n",
       "      <td>1.000000</td>\n",
       "      <td>22.000000</td>\n",
       "      <td>0.000000</td>\n",
       "      <td>1.000000</td>\n",
       "      <td>3850.000000</td>\n",
       "      <td>30.000000</td>\n",
       "      <td>0.000000</td>\n",
       "      <td>0.00000</td>\n",
       "      <td>0.00000</td>\n",
       "      <td>0.000000</td>\n",
       "      <td>1.000000</td>\n",
       "      <td>0.000000</td>\n",
       "      <td>0.000000</td>\n",
       "      <td>1.000000</td>\n",
       "    </tr>\n",
       "    <tr>\n",
       "      <th>25%</th>\n",
       "      <td>500.500000</td>\n",
       "      <td>31.000000</td>\n",
       "      <td>2.000000</td>\n",
       "      <td>2.000000</td>\n",
       "      <td>5250.000000</td>\n",
       "      <td>37.000000</td>\n",
       "      <td>12.000000</td>\n",
       "      <td>7.00000</td>\n",
       "      <td>3.00000</td>\n",
       "      <td>25.000000</td>\n",
       "      <td>5.000000</td>\n",
       "      <td>25.000000</td>\n",
       "      <td>0.000000</td>\n",
       "      <td>2.005000</td>\n",
       "    </tr>\n",
       "    <tr>\n",
       "      <th>50%</th>\n",
       "      <td>1000.000000</td>\n",
       "      <td>41.000000</td>\n",
       "      <td>5.000000</td>\n",
       "      <td>3.000000</td>\n",
       "      <td>6300.000000</td>\n",
       "      <td>45.000000</td>\n",
       "      <td>24.000000</td>\n",
       "      <td>14.00000</td>\n",
       "      <td>7.00000</td>\n",
       "      <td>50.000000</td>\n",
       "      <td>10.000000</td>\n",
       "      <td>48.000000</td>\n",
       "      <td>1.000000</td>\n",
       "      <td>3.000000</td>\n",
       "    </tr>\n",
       "    <tr>\n",
       "      <th>75%</th>\n",
       "      <td>1499.500000</td>\n",
       "      <td>50.000000</td>\n",
       "      <td>7.000000</td>\n",
       "      <td>4.000000</td>\n",
       "      <td>7500.000000</td>\n",
       "      <td>52.000000</td>\n",
       "      <td>36.000000</td>\n",
       "      <td>22.00000</td>\n",
       "      <td>11.00000</td>\n",
       "      <td>75.000000</td>\n",
       "      <td>15.000000</td>\n",
       "      <td>74.000000</td>\n",
       "      <td>2.000000</td>\n",
       "      <td>3.960000</td>\n",
       "    </tr>\n",
       "    <tr>\n",
       "      <th>max</th>\n",
       "      <td>1999.000000</td>\n",
       "      <td>60.000000</td>\n",
       "      <td>9.000000</td>\n",
       "      <td>5.000000</td>\n",
       "      <td>9000.000000</td>\n",
       "      <td>60.000000</td>\n",
       "      <td>49.000000</td>\n",
       "      <td>29.00000</td>\n",
       "      <td>14.00000</td>\n",
       "      <td>100.000000</td>\n",
       "      <td>19.000000</td>\n",
       "      <td>99.000000</td>\n",
       "      <td>2.000000</td>\n",
       "      <td>5.000000</td>\n",
       "    </tr>\n",
       "  </tbody>\n",
       "</table>\n",
       "</div>"
      ],
      "text/plain": [
       "       Employee_ID          Age  Years_At_Company  Performance_Score  \\\n",
       "count  1999.000000  1999.000000       1999.000000        1999.000000   \n",
       "mean   1000.000000    40.743372          4.564782           2.963482   \n",
       "std     577.205914    10.933536          2.833851           1.396466   \n",
       "min       1.000000    22.000000          0.000000           1.000000   \n",
       "25%     500.500000    31.000000          2.000000           2.000000   \n",
       "50%    1000.000000    41.000000          5.000000           3.000000   \n",
       "75%    1499.500000    50.000000          7.000000           4.000000   \n",
       "max    1999.000000    60.000000          9.000000           5.000000   \n",
       "\n",
       "       Monthly_Salary  Work_Hours_Per_Week  Projects_Handled  Overtime_Hours  \\\n",
       "count     1999.000000          1999.000000       1999.000000      1999.00000   \n",
       "mean      6394.222111            44.859930         23.771886        14.55978   \n",
       "std       1381.499701             8.855213         14.223723         8.67863   \n",
       "min       3850.000000            30.000000          0.000000         0.00000   \n",
       "25%       5250.000000            37.000000         12.000000         7.00000   \n",
       "50%       6300.000000            45.000000         24.000000        14.00000   \n",
       "75%       7500.000000            52.000000         36.000000        22.00000   \n",
       "max       9000.000000            60.000000         49.000000        29.00000   \n",
       "\n",
       "        Sick_Days  Remote_Work_Frequency    Team_Size  Training_Hours  \\\n",
       "count  1999.00000            1999.000000  1999.000000     1999.000000   \n",
       "mean      6.90095              50.475238    10.028514       49.097549   \n",
       "std       4.33855              35.519867     5.475369       28.991300   \n",
       "min       0.00000               0.000000     1.000000        0.000000   \n",
       "25%       3.00000              25.000000     5.000000       25.000000   \n",
       "50%       7.00000              50.000000    10.000000       48.000000   \n",
       "75%      11.00000              75.000000    15.000000       74.000000   \n",
       "max      14.00000             100.000000    19.000000       99.000000   \n",
       "\n",
       "        Promotions  Employee_Satisfaction_Score  \n",
       "count  1999.000000                  1999.000000  \n",
       "mean      0.983492                     2.982141  \n",
       "std       0.813566                     1.141426  \n",
       "min       0.000000                     1.000000  \n",
       "25%       0.000000                     2.005000  \n",
       "50%       1.000000                     3.000000  \n",
       "75%       2.000000                     3.960000  \n",
       "max       2.000000                     5.000000  "
      ]
     },
     "execution_count": 4,
     "metadata": {},
     "output_type": "execute_result"
    }
   ],
   "source": [
    "# Display basic info\n",
    "employee.describe()"
   ]
  },
  {
   "cell_type": "code",
   "execution_count": 5,
   "metadata": {},
   "outputs": [
    {
     "data": {
      "text/plain": [
       "(1999, 20)"
      ]
     },
     "execution_count": 5,
     "metadata": {},
     "output_type": "execute_result"
    }
   ],
   "source": [
    "employee.shape"
   ]
  },
  {
   "cell_type": "code",
   "execution_count": 6,
   "metadata": {},
   "outputs": [
    {
     "name": "stdout",
     "output_type": "stream",
     "text": [
      "<class 'pandas.core.frame.DataFrame'>\n",
      "RangeIndex: 1999 entries, 0 to 1998\n",
      "Data columns (total 20 columns):\n",
      " #   Column                       Non-Null Count  Dtype  \n",
      "---  ------                       --------------  -----  \n",
      " 0   Employee_ID                  1999 non-null   int64  \n",
      " 1   Department                   1999 non-null   object \n",
      " 2   Gender                       1999 non-null   object \n",
      " 3   Age                          1999 non-null   int64  \n",
      " 4   Job_Title                    1999 non-null   object \n",
      " 5   Hire_Date                    1999 non-null   object \n",
      " 6   Years_At_Company             1999 non-null   int64  \n",
      " 7   Education_Level              1999 non-null   object \n",
      " 8   Performance_Score            1999 non-null   int64  \n",
      " 9   Monthly_Salary               1999 non-null   float64\n",
      " 10  Work_Hours_Per_Week          1999 non-null   int64  \n",
      " 11  Projects_Handled             1999 non-null   int64  \n",
      " 12  Overtime_Hours               1999 non-null   int64  \n",
      " 13  Sick_Days                    1999 non-null   int64  \n",
      " 14  Remote_Work_Frequency        1999 non-null   int64  \n",
      " 15  Team_Size                    1999 non-null   int64  \n",
      " 16  Training_Hours               1999 non-null   int64  \n",
      " 17  Promotions                   1999 non-null   int64  \n",
      " 18  Employee_Satisfaction_Score  1999 non-null   float64\n",
      " 19  Resigned                     1999 non-null   bool   \n",
      "dtypes: bool(1), float64(2), int64(12), object(5)\n",
      "memory usage: 298.8+ KB\n"
     ]
    }
   ],
   "source": [
    "employee.info()"
   ]
  },
  {
   "cell_type": "code",
   "execution_count": 7,
   "metadata": {},
   "outputs": [
    {
     "data": {
      "text/plain": [
       "Index(['Employee_ID', 'Department', 'Gender', 'Age', 'Job_Title', 'Hire_Date',\n",
       "       'Years_At_Company', 'Education_Level', 'Performance_Score',\n",
       "       'Monthly_Salary', 'Work_Hours_Per_Week', 'Projects_Handled',\n",
       "       'Overtime_Hours', 'Sick_Days', 'Remote_Work_Frequency', 'Team_Size',\n",
       "       'Training_Hours', 'Promotions', 'Employee_Satisfaction_Score',\n",
       "       'Resigned'],\n",
       "      dtype='object')"
      ]
     },
     "execution_count": 7,
     "metadata": {},
     "output_type": "execute_result"
    }
   ],
   "source": [
    "employee.columns = employee.columns.str.strip()\n",
    "employee.columns"
   ]
  },
  {
   "cell_type": "code",
   "execution_count": 8,
   "metadata": {},
   "outputs": [
    {
     "name": "stdout",
     "output_type": "stream",
     "text": [
      "Department: ['IT' 'Finance' 'Customer Support' 'Engineering' 'Marketing' 'HR'\n",
      " 'Operations' 'Sales' 'Legal']\n",
      "Job Title: ['Specialist' 'Developer' 'Analyst' 'Manager' 'Technician' 'Engineer'\n",
      " 'Consultant']\n",
      "Education Level: ['High School' 'Bachelor' 'Master' 'PhD']\n"
     ]
    }
   ],
   "source": [
    "# Extract the unique values for some columns\n",
    "print(f\"Department: {employee[\"Department\"].unique()}\")\n",
    "print(f\"Job Title: {employee[\"Job_Title\"].unique()}\")\n",
    "print(f\"Education Level: {employee[\"Education_Level\"].unique()}\")"
   ]
  },
  {
   "cell_type": "markdown",
   "metadata": {},
   "source": [
    "# Visualization"
   ]
  },
  {
   "cell_type": "code",
   "execution_count": 9,
   "metadata": {},
   "outputs": [
    {
     "data": {
      "image/png": "[encoded data removed]",
      "text/plain": [
       "<Figure size 1000x600 with 1 Axes>"
      ]
     },
     "metadata": {},
     "output_type": "display_data"
    }
   ],
   "source": [
    "# Plotting 'Monthly Salary'\n",
    "\n",
    "\"\"\" Salaries are relatively normally distributed, with a peak around $6500. \"\"\"\n",
    "\n",
    "plt.figure(figsize=(10, 6))\n",
    "plt.hist(employee['Monthly_Salary'], bins=20, color='skyblue', edgecolor='black')\n",
    "plt.title('Distribution of Monthly Salary')\n",
    "plt.xlabel('Monthly Salary')\n",
    "plt.ylabel('People')\n",
    "plt.show()"
   ]
  },
  {
   "cell_type": "code",
   "execution_count": 10,
   "metadata": {},
   "outputs": [
    {
     "data": {
      "image/png": "[encoded data removed]",
      "text/plain": [
       "<Figure size 640x480 with 1 Axes>"
      ]
     },
     "metadata": {},
     "output_type": "display_data"
    }
   ],
   "source": [
    "# Plotting 'Years at company'\n",
    "\n",
    "\"\"\" The majority of employees have been with the company for 6 to 10 years. \"\"\"\n",
    "\n",
    "bins = [0, 2, 5, 10, 20]\n",
    "labels = ['0-2', '3-5', '6-10', '10+']\n",
    "employee['Years_Range'] = pd.cut(employee['Years_At_Company'], bins=bins, labels=labels)\n",
    "employee['Years_Range'].value_counts().plot.pie(autopct='%1.1f%%')\n",
    "plt.title('Proportion of Employees by Years at Company')\n",
    "plt.show()"
   ]
  },
  {
   "cell_type": "markdown",
   "metadata": {},
   "source": [
    "# 2. Data Quality Analysis"
   ]
  },
  {
   "cell_type": "code",
   "execution_count": 11,
   "metadata": {},
   "outputs": [
    {
     "data": {
      "text/html": [
       "<div>\n",
       "<style scoped>\n",
       "    .dataframe tbody tr th:only-of-type {\n",
       "        vertical-align: middle;\n",
       "    }\n",
       "\n",
       "    .dataframe tbody tr th {\n",
       "        vertical-align: top;\n",
       "    }\n",
       "\n",
       "    .dataframe thead th {\n",
       "        text-align: right;\n",
       "    }\n",
       "</style>\n",
       "<table border=\"1\" class=\"dataframe\">\n",
       "  <thead>\n",
       "    <tr style=\"text-align: right;\">\n",
       "      <th></th>\n",
       "      <th>Employee_ID</th>\n",
       "      <th>Department</th>\n",
       "      <th>Gender</th>\n",
       "      <th>Age</th>\n",
       "      <th>Job_Title</th>\n",
       "      <th>Hire_Date</th>\n",
       "      <th>Years_At_Company</th>\n",
       "      <th>Education_Level</th>\n",
       "      <th>Performance_Score</th>\n",
       "      <th>Monthly_Salary</th>\n",
       "      <th>...</th>\n",
       "      <th>Projects_Handled</th>\n",
       "      <th>Overtime_Hours</th>\n",
       "      <th>Sick_Days</th>\n",
       "      <th>Remote_Work_Frequency</th>\n",
       "      <th>Team_Size</th>\n",
       "      <th>Training_Hours</th>\n",
       "      <th>Promotions</th>\n",
       "      <th>Employee_Satisfaction_Score</th>\n",
       "      <th>Resigned</th>\n",
       "      <th>Years_Range</th>\n",
       "    </tr>\n",
       "  </thead>\n",
       "  <tbody>\n",
       "    <tr>\n",
       "      <th>0</th>\n",
       "      <td>False</td>\n",
       "      <td>False</td>\n",
       "      <td>False</td>\n",
       "      <td>False</td>\n",
       "      <td>False</td>\n",
       "      <td>False</td>\n",
       "      <td>False</td>\n",
       "      <td>False</td>\n",
       "      <td>False</td>\n",
       "      <td>False</td>\n",
       "      <td>...</td>\n",
       "      <td>False</td>\n",
       "      <td>False</td>\n",
       "      <td>False</td>\n",
       "      <td>False</td>\n",
       "      <td>False</td>\n",
       "      <td>False</td>\n",
       "      <td>False</td>\n",
       "      <td>False</td>\n",
       "      <td>False</td>\n",
       "      <td>False</td>\n",
       "    </tr>\n",
       "    <tr>\n",
       "      <th>1</th>\n",
       "      <td>False</td>\n",
       "      <td>False</td>\n",
       "      <td>False</td>\n",
       "      <td>False</td>\n",
       "      <td>False</td>\n",
       "      <td>False</td>\n",
       "      <td>False</td>\n",
       "      <td>False</td>\n",
       "      <td>False</td>\n",
       "      <td>False</td>\n",
       "      <td>...</td>\n",
       "      <td>False</td>\n",
       "      <td>False</td>\n",
       "      <td>False</td>\n",
       "      <td>False</td>\n",
       "      <td>False</td>\n",
       "      <td>False</td>\n",
       "      <td>False</td>\n",
       "      <td>False</td>\n",
       "      <td>False</td>\n",
       "      <td>True</td>\n",
       "    </tr>\n",
       "    <tr>\n",
       "      <th>2</th>\n",
       "      <td>False</td>\n",
       "      <td>False</td>\n",
       "      <td>False</td>\n",
       "      <td>False</td>\n",
       "      <td>False</td>\n",
       "      <td>False</td>\n",
       "      <td>False</td>\n",
       "      <td>False</td>\n",
       "      <td>False</td>\n",
       "      <td>False</td>\n",
       "      <td>...</td>\n",
       "      <td>False</td>\n",
       "      <td>False</td>\n",
       "      <td>False</td>\n",
       "      <td>False</td>\n",
       "      <td>False</td>\n",
       "      <td>False</td>\n",
       "      <td>False</td>\n",
       "      <td>False</td>\n",
       "      <td>False</td>\n",
       "      <td>False</td>\n",
       "    </tr>\n",
       "    <tr>\n",
       "      <th>3</th>\n",
       "      <td>False</td>\n",
       "      <td>False</td>\n",
       "      <td>False</td>\n",
       "      <td>False</td>\n",
       "      <td>False</td>\n",
       "      <td>False</td>\n",
       "      <td>False</td>\n",
       "      <td>False</td>\n",
       "      <td>False</td>\n",
       "      <td>False</td>\n",
       "      <td>...</td>\n",
       "      <td>False</td>\n",
       "      <td>False</td>\n",
       "      <td>False</td>\n",
       "      <td>False</td>\n",
       "      <td>False</td>\n",
       "      <td>False</td>\n",
       "      <td>False</td>\n",
       "      <td>False</td>\n",
       "      <td>False</td>\n",
       "      <td>False</td>\n",
       "    </tr>\n",
       "    <tr>\n",
       "      <th>4</th>\n",
       "      <td>False</td>\n",
       "      <td>False</td>\n",
       "      <td>False</td>\n",
       "      <td>False</td>\n",
       "      <td>False</td>\n",
       "      <td>False</td>\n",
       "      <td>False</td>\n",
       "      <td>False</td>\n",
       "      <td>False</td>\n",
       "      <td>False</td>\n",
       "      <td>...</td>\n",
       "      <td>False</td>\n",
       "      <td>False</td>\n",
       "      <td>False</td>\n",
       "      <td>False</td>\n",
       "      <td>False</td>\n",
       "      <td>False</td>\n",
       "      <td>False</td>\n",
       "      <td>False</td>\n",
       "      <td>False</td>\n",
       "      <td>False</td>\n",
       "    </tr>\n",
       "    <tr>\n",
       "      <th>...</th>\n",
       "      <td>...</td>\n",
       "      <td>...</td>\n",
       "      <td>...</td>\n",
       "      <td>...</td>\n",
       "      <td>...</td>\n",
       "      <td>...</td>\n",
       "      <td>...</td>\n",
       "      <td>...</td>\n",
       "      <td>...</td>\n",
       "      <td>...</td>\n",
       "      <td>...</td>\n",
       "      <td>...</td>\n",
       "      <td>...</td>\n",
       "      <td>...</td>\n",
       "      <td>...</td>\n",
       "      <td>...</td>\n",
       "      <td>...</td>\n",
       "      <td>...</td>\n",
       "      <td>...</td>\n",
       "      <td>...</td>\n",
       "      <td>...</td>\n",
       "    </tr>\n",
       "    <tr>\n",
       "      <th>1994</th>\n",
       "      <td>False</td>\n",
       "      <td>False</td>\n",
       "      <td>False</td>\n",
       "      <td>False</td>\n",
       "      <td>False</td>\n",
       "      <td>False</td>\n",
       "      <td>False</td>\n",
       "      <td>False</td>\n",
       "      <td>False</td>\n",
       "      <td>False</td>\n",
       "      <td>...</td>\n",
       "      <td>False</td>\n",
       "      <td>False</td>\n",
       "      <td>False</td>\n",
       "      <td>False</td>\n",
       "      <td>False</td>\n",
       "      <td>False</td>\n",
       "      <td>False</td>\n",
       "      <td>False</td>\n",
       "      <td>False</td>\n",
       "      <td>False</td>\n",
       "    </tr>\n",
       "    <tr>\n",
       "      <th>1995</th>\n",
       "      <td>False</td>\n",
       "      <td>False</td>\n",
       "      <td>False</td>\n",
       "      <td>False</td>\n",
       "      <td>False</td>\n",
       "      <td>False</td>\n",
       "      <td>False</td>\n",
       "      <td>False</td>\n",
       "      <td>False</td>\n",
       "      <td>False</td>\n",
       "      <td>...</td>\n",
       "      <td>False</td>\n",
       "      <td>False</td>\n",
       "      <td>False</td>\n",
       "      <td>False</td>\n",
       "      <td>False</td>\n",
       "      <td>False</td>\n",
       "      <td>False</td>\n",
       "      <td>False</td>\n",
       "      <td>False</td>\n",
       "      <td>False</td>\n",
       "    </tr>\n",
       "    <tr>\n",
       "      <th>1996</th>\n",
       "      <td>False</td>\n",
       "      <td>False</td>\n",
       "      <td>False</td>\n",
       "      <td>False</td>\n",
       "      <td>False</td>\n",
       "      <td>False</td>\n",
       "      <td>False</td>\n",
       "      <td>False</td>\n",
       "      <td>False</td>\n",
       "      <td>False</td>\n",
       "      <td>...</td>\n",
       "      <td>False</td>\n",
       "      <td>False</td>\n",
       "      <td>False</td>\n",
       "      <td>False</td>\n",
       "      <td>False</td>\n",
       "      <td>False</td>\n",
       "      <td>False</td>\n",
       "      <td>False</td>\n",
       "      <td>False</td>\n",
       "      <td>False</td>\n",
       "    </tr>\n",
       "    <tr>\n",
       "      <th>1997</th>\n",
       "      <td>False</td>\n",
       "      <td>False</td>\n",
       "      <td>False</td>\n",
       "      <td>False</td>\n",
       "      <td>False</td>\n",
       "      <td>False</td>\n",
       "      <td>False</td>\n",
       "      <td>False</td>\n",
       "      <td>False</td>\n",
       "      <td>False</td>\n",
       "      <td>...</td>\n",
       "      <td>False</td>\n",
       "      <td>False</td>\n",
       "      <td>False</td>\n",
       "      <td>False</td>\n",
       "      <td>False</td>\n",
       "      <td>False</td>\n",
       "      <td>False</td>\n",
       "      <td>False</td>\n",
       "      <td>False</td>\n",
       "      <td>False</td>\n",
       "    </tr>\n",
       "    <tr>\n",
       "      <th>1998</th>\n",
       "      <td>False</td>\n",
       "      <td>False</td>\n",
       "      <td>False</td>\n",
       "      <td>False</td>\n",
       "      <td>False</td>\n",
       "      <td>False</td>\n",
       "      <td>False</td>\n",
       "      <td>False</td>\n",
       "      <td>False</td>\n",
       "      <td>False</td>\n",
       "      <td>...</td>\n",
       "      <td>False</td>\n",
       "      <td>False</td>\n",
       "      <td>False</td>\n",
       "      <td>False</td>\n",
       "      <td>False</td>\n",
       "      <td>False</td>\n",
       "      <td>False</td>\n",
       "      <td>False</td>\n",
       "      <td>False</td>\n",
       "      <td>False</td>\n",
       "    </tr>\n",
       "  </tbody>\n",
       "</table>\n",
       "<p>1999 rows × 21 columns</p>\n",
       "</div>"
      ],
      "text/plain": [
       "      Employee_ID  Department  Gender    Age  Job_Title  Hire_Date  \\\n",
       "0           False       False   False  False      False      False   \n",
       "1           False       False   False  False      False      False   \n",
       "2           False       False   False  False      False      False   \n",
       "3           False       False   False  False      False      False   \n",
       "4           False       False   False  False      False      False   \n",
       "...           ...         ...     ...    ...        ...        ...   \n",
       "1994        False       False   False  False      False      False   \n",
       "1995        False       False   False  False      False      False   \n",
       "1996        False       False   False  False      False      False   \n",
       "1997        False       False   False  False      False      False   \n",
       "1998        False       False   False  False      False      False   \n",
       "\n",
       "      Years_At_Company  Education_Level  Performance_Score  Monthly_Salary  \\\n",
       "0                False            False              False           False   \n",
       "1                False            False              False           False   \n",
       "2                False            False              False           False   \n",
       "3                False            False              False           False   \n",
       "4                False            False              False           False   \n",
       "...                ...              ...                ...             ...   \n",
       "1994             False            False              False           False   \n",
       "1995             False            False              False           False   \n",
       "1996             False            False              False           False   \n",
       "1997             False            False              False           False   \n",
       "1998             False            False              False           False   \n",
       "\n",
       "      ...  Projects_Handled  Overtime_Hours  Sick_Days  Remote_Work_Frequency  \\\n",
       "0     ...             False           False      False                  False   \n",
       "1     ...             False           False      False                  False   \n",
       "2     ...             False           False      False                  False   \n",
       "3     ...             False           False      False                  False   \n",
       "4     ...             False           False      False                  False   \n",
       "...   ...               ...             ...        ...                    ...   \n",
       "1994  ...             False           False      False                  False   \n",
       "1995  ...             False           False      False                  False   \n",
       "1996  ...             False           False      False                  False   \n",
       "1997  ...             False           False      False                  False   \n",
       "1998  ...             False           False      False                  False   \n",
       "\n",
       "      Team_Size  Training_Hours  Promotions  Employee_Satisfaction_Score  \\\n",
       "0         False           False       False                        False   \n",
       "1         False           False       False                        False   \n",
       "2         False           False       False                        False   \n",
       "3         False           False       False                        False   \n",
       "4         False           False       False                        False   \n",
       "...         ...             ...         ...                          ...   \n",
       "1994      False           False       False                        False   \n",
       "1995      False           False       False                        False   \n",
       "1996      False           False       False                        False   \n",
       "1997      False           False       False                        False   \n",
       "1998      False           False       False                        False   \n",
       "\n",
       "      Resigned  Years_Range  \n",
       "0        False        False  \n",
       "1        False         True  \n",
       "2        False        False  \n",
       "3        False        False  \n",
       "4        False        False  \n",
       "...        ...          ...  \n",
       "1994     False        False  \n",
       "1995     False        False  \n",
       "1996     False        False  \n",
       "1997     False        False  \n",
       "1998     False        False  \n",
       "\n",
       "[1999 rows x 21 columns]"
      ]
     },
     "execution_count": 11,
     "metadata": {},
     "output_type": "execute_result"
    }
   ],
   "source": [
    "# Searching for missing values in the Data Frame\n",
    "missing_values = pd.isnull(employee)\n",
    "missing_values"
   ]
  },
  {
   "cell_type": "code",
   "execution_count": 12,
   "metadata": {},
   "outputs": [
    {
     "name": "stdout",
     "output_type": "stream",
     "text": [
      "Missing values in each column: Employee_ID                      0\n",
      "Department                       0\n",
      "Gender                           0\n",
      "Age                              0\n",
      "Job_Title                        0\n",
      "Hire_Date                        0\n",
      "Years_At_Company                 0\n",
      "Education_Level                  0\n",
      "Performance_Score                0\n",
      "Monthly_Salary                   0\n",
      "Work_Hours_Per_Week              0\n",
      "Projects_Handled                 0\n",
      "Overtime_Hours                   0\n",
      "Sick_Days                        0\n",
      "Remote_Work_Frequency            0\n",
      "Team_Size                        0\n",
      "Training_Hours                   0\n",
      "Promotions                       0\n",
      "Employee_Satisfaction_Score      0\n",
      "Resigned                         0\n",
      "Years_Range                    181\n",
      "dtype: int64\n"
     ]
    }
   ],
   "source": [
    "# Count missing values in each column\n",
    "missing_counts = missing_values.sum()\n",
    "print(f\"Missing values in each column: {missing_counts}\")"
   ]
  },
  {
   "cell_type": "code",
   "execution_count": 13,
   "metadata": {},
   "outputs": [
    {
     "name": "stdout",
     "output_type": "stream",
     "text": [
      "Number of columns with missing values: 1\n"
     ]
    }
   ],
   "source": [
    "#Number of columns with missing values\n",
    "\n",
    "\"\"\" Just the column Years_Range that we've already created has missing values\"\"\"\n",
    "\n",
    "columns_with_missing = missing_counts[missing_counts > 0].count()\n",
    "print(f\"Number of columns with missing values: {columns_with_missing}\")"
   ]
  },
  {
   "cell_type": "code",
   "execution_count": 14,
   "metadata": {},
   "outputs": [
    {
     "name": "stdout",
     "output_type": "stream",
     "text": [
      "All columns have missing values: False\n"
     ]
    }
   ],
   "source": [
    "# Have all the columns values that are missing?\n",
    "\n",
    "all_columns_missing = missing_counts.all()\n",
    "print(f\"All columns have missing values: {all_columns_missing}\")"
   ]
  },
  {
   "cell_type": "code",
   "execution_count": 15,
   "metadata": {},
   "outputs": [
    {
     "name": "stdout",
     "output_type": "stream",
     "text": [
      "Total missing values in the Data Frame: 181\n"
     ]
    }
   ],
   "source": [
    "# Calculate the total number of missing values\n",
    "total_missing_values = missing_counts.sum()\n",
    "print(f\"Total missing values in the Data Frame: {total_missing_values}\")"
   ]
  },
  {
   "cell_type": "code",
   "execution_count": 16,
   "metadata": {},
   "outputs": [],
   "source": [
    "# Clean DataFrame from duplicates\n",
    "employee.drop_duplicates(inplace=True)"
   ]
  },
  {
   "cell_type": "markdown",
   "metadata": {},
   "source": [
    "# 3. Create Database and upload to MySQL"
   ]
  },
  {
   "cell_type": "code",
   "execution_count": 17,
   "metadata": {},
   "outputs": [
    {
     "name": "stdout",
     "output_type": "stream",
     "text": [
      "Requirement already satisfied: pymysql in c:\\users\\crvid\\anaconda3\\lib\\site-packages (1.1.1)\n",
      "Requirement already satisfied: cryptography in c:\\users\\crvid\\anaconda3\\lib\\site-packages (42.0.5)\n",
      "Requirement already satisfied: cffi>=1.12 in c:\\users\\crvid\\anaconda3\\lib\\site-packages (from cryptography) (1.16.0)\n",
      "Requirement already satisfied: pycparser in c:\\users\\crvid\\anaconda3\\lib\\site-packages (from cffi>=1.12->cryptography) (2.21)\n"
     ]
    }
   ],
   "source": [
    "!pip install pymysql\n",
    "!pip install cryptography"
   ]
  },
  {
   "cell_type": "code",
   "execution_count": 29,
   "metadata": {},
   "outputs": [
    {
     "name": "stdout",
     "output_type": "stream",
     "text": [
      "Connection open\n"
     ]
    }
   ],
   "source": [
    "# Step 1: Establish a connection to MySQL\n",
    "import pymysql\n",
    "\n",
    "cnx = pymysql.connect(user='root', password='Vidondo6699',\n",
    "                      host='localhost')\n",
    "\n",
    "if cnx.open:\n",
    "    print(\"Connection open\")\n",
    "else:\n",
    "    print(\"Connection is not successfully open\")\n"
   ]
  },
  {
   "cell_type": "code",
   "execution_count": 19,
   "metadata": {},
   "outputs": [],
   "source": [
    "# Step 2: Create a cursor object to execute SQL queries\n",
    "cursor = cnx.cursor()"
   ]
  },
  {
   "cell_type": "code",
   "execution_count": 20,
   "metadata": {},
   "outputs": [
    {
     "data": {
      "text/plain": [
       "1"
      ]
     },
     "execution_count": 20,
     "metadata": {},
     "output_type": "execute_result"
    }
   ],
   "source": [
    "# Step 3: Create a new database\n",
    "query = \"CREATE DATABASE IF NOT EXISTS employee_productivity\"\n",
    "cursor.execute(query)"
   ]
  },
  {
   "cell_type": "code",
   "execution_count": 21,
   "metadata": {},
   "outputs": [
    {
     "name": "stdout",
     "output_type": "stream",
     "text": [
      "('bank',)\n",
      "('cars',)\n",
      "('employee_productivity',)\n",
      "('gambling',)\n",
      "('information_schema',)\n",
      "('mysql',)\n",
      "('performance_schema',)\n",
      "('publications',)\n",
      "('sakila',)\n",
      "('sys',)\n"
     ]
    }
   ],
   "source": [
    "# Step 4: Confirm the database is created\n",
    "cursor.execute(\"SHOW DATABASES\")\n",
    "for db in cursor:\n",
    "    print(db)"
   ]
  },
  {
   "cell_type": "code",
   "execution_count": 22,
   "metadata": {},
   "outputs": [
    {
     "data": {
      "text/plain": [
       "0"
      ]
     },
     "execution_count": 22,
     "metadata": {},
     "output_type": "execute_result"
    }
   ],
   "source": [
    "# Step 5: Select to use the new database\n",
    "query = \"USE employee_productivity\"\n",
    "cursor.execute(query)"
   ]
  },
  {
   "cell_type": "code",
   "execution_count": 23,
   "metadata": {},
   "outputs": [
    {
     "data": {
      "text/plain": [
       "0"
      ]
     },
     "execution_count": 23,
     "metadata": {},
     "output_type": "execute_result"
    }
   ],
   "source": [
    "# Step 6: Write the SQL query to create a table\n",
    "query = \"\"\"CREATE TABLE IF NOT EXISTS employee (\n",
    "        Employee_Id INT PRIMARY KEY,\n",
    "        Gender VARCHAR(20),\n",
    "        Age INT,\n",
    "        Department VARCHAR(255),\n",
    "        Job_Title VARCHAR(255),\n",
    "        Hire_Date DATE,\n",
    "        Years_At_Company INT,\n",
    "        Education_Level VARCHAR(255)\n",
    "        )\"\"\"\n",
    "\n",
    "cursor.execute(query)"
   ]
  },
  {
   "cell_type": "code",
   "execution_count": 24,
   "metadata": {},
   "outputs": [
    {
     "data": {
      "text/plain": [
       "0"
      ]
     },
     "execution_count": 24,
     "metadata": {},
     "output_type": "execute_result"
    }
   ],
   "source": [
    "# Create another table\n",
    "query = \"\"\"CREATE TABLE IF NOT EXISTS seniority (\n",
    "        Seniority_ID INT AUTO_INCREMENT PRIMARY KEY,\n",
    "        Employee_ID INT,\n",
    "        Performance_Score INT,\n",
    "        Work_Hours_Per_Week INT,\n",
    "        Overtime_Hours INT,\n",
    "        Projects_Handled INT,\n",
    "        Promotions INT,\n",
    "        FOREIGN KEY (Employee_ID) REFERENCES employee(Employee_ID)\n",
    "        )\"\"\"\n",
    "\n",
    "cursor.execute(query)"
   ]
  },
  {
   "cell_type": "code",
   "execution_count": 25,
   "metadata": {},
   "outputs": [
    {
     "ename": "OperationalError",
     "evalue": "(1060, \"Duplicate column name 'Monthly_Salary'\")",
     "output_type": "error",
     "traceback": [
      "\u001b[1;31m---------------------------------------------------------------------------\u001b[0m",
      "\u001b[1;31mOperationalError\u001b[0m                          Traceback (most recent call last)",
      "Cell \u001b[1;32mIn[25], line 6\u001b[0m\n\u001b[0;32m      1\u001b[0m \u001b[38;5;66;03m# Add a column to an existing table\u001b[39;00m\n\u001b[0;32m      2\u001b[0m query \u001b[38;5;241m=\u001b[39m \u001b[38;5;124m\"\"\"\u001b[39m\u001b[38;5;124mALTER TABLE seniority\u001b[39m\n\u001b[0;32m      3\u001b[0m \u001b[38;5;124m        ADD COLUMN Monthly_Salary DECIMAL(10, 2);\u001b[39m\n\u001b[0;32m      4\u001b[0m \u001b[38;5;124m        \u001b[39m\u001b[38;5;124m\"\"\"\u001b[39m\n\u001b[1;32m----> 6\u001b[0m cursor\u001b[38;5;241m.\u001b[39mexecute(query)\n",
      "File \u001b[1;32mc:\\Users\\crvid\\anaconda3\\Lib\\site-packages\\pymysql\\cursors.py:153\u001b[0m, in \u001b[0;36mCursor.execute\u001b[1;34m(self, query, args)\u001b[0m\n\u001b[0;32m    149\u001b[0m     \u001b[38;5;28;01mpass\u001b[39;00m\n\u001b[0;32m    151\u001b[0m query \u001b[38;5;241m=\u001b[39m \u001b[38;5;28mself\u001b[39m\u001b[38;5;241m.\u001b[39mmogrify(query, args)\n\u001b[1;32m--> 153\u001b[0m result \u001b[38;5;241m=\u001b[39m \u001b[38;5;28mself\u001b[39m\u001b[38;5;241m.\u001b[39m_query(query)\n\u001b[0;32m    154\u001b[0m \u001b[38;5;28mself\u001b[39m\u001b[38;5;241m.\u001b[39m_executed \u001b[38;5;241m=\u001b[39m query\n\u001b[0;32m    155\u001b[0m \u001b[38;5;28;01mreturn\u001b[39;00m result\n",
      "File \u001b[1;32mc:\\Users\\crvid\\anaconda3\\Lib\\site-packages\\pymysql\\cursors.py:322\u001b[0m, in \u001b[0;36mCursor._query\u001b[1;34m(self, q)\u001b[0m\n\u001b[0;32m    320\u001b[0m conn \u001b[38;5;241m=\u001b[39m \u001b[38;5;28mself\u001b[39m\u001b[38;5;241m.\u001b[39m_get_db()\n\u001b[0;32m    321\u001b[0m \u001b[38;5;28mself\u001b[39m\u001b[38;5;241m.\u001b[39m_clear_result()\n\u001b[1;32m--> 322\u001b[0m conn\u001b[38;5;241m.\u001b[39mquery(q)\n\u001b[0;32m    323\u001b[0m \u001b[38;5;28mself\u001b[39m\u001b[38;5;241m.\u001b[39m_do_get_result()\n\u001b[0;32m    324\u001b[0m \u001b[38;5;28;01mreturn\u001b[39;00m \u001b[38;5;28mself\u001b[39m\u001b[38;5;241m.\u001b[39mrowcount\n",
      "File \u001b[1;32mc:\\Users\\crvid\\anaconda3\\Lib\\site-packages\\pymysql\\connections.py:563\u001b[0m, in \u001b[0;36mConnection.query\u001b[1;34m(self, sql, unbuffered)\u001b[0m\n\u001b[0;32m    561\u001b[0m     sql \u001b[38;5;241m=\u001b[39m sql\u001b[38;5;241m.\u001b[39mencode(\u001b[38;5;28mself\u001b[39m\u001b[38;5;241m.\u001b[39mencoding, \u001b[38;5;124m\"\u001b[39m\u001b[38;5;124msurrogateescape\u001b[39m\u001b[38;5;124m\"\u001b[39m)\n\u001b[0;32m    562\u001b[0m \u001b[38;5;28mself\u001b[39m\u001b[38;5;241m.\u001b[39m_execute_command(COMMAND\u001b[38;5;241m.\u001b[39mCOM_QUERY, sql)\n\u001b[1;32m--> 563\u001b[0m \u001b[38;5;28mself\u001b[39m\u001b[38;5;241m.\u001b[39m_affected_rows \u001b[38;5;241m=\u001b[39m \u001b[38;5;28mself\u001b[39m\u001b[38;5;241m.\u001b[39m_read_query_result(unbuffered\u001b[38;5;241m=\u001b[39munbuffered)\n\u001b[0;32m    564\u001b[0m \u001b[38;5;28;01mreturn\u001b[39;00m \u001b[38;5;28mself\u001b[39m\u001b[38;5;241m.\u001b[39m_affected_rows\n",
      "File \u001b[1;32mc:\\Users\\crvid\\anaconda3\\Lib\\site-packages\\pymysql\\connections.py:825\u001b[0m, in \u001b[0;36mConnection._read_query_result\u001b[1;34m(self, unbuffered)\u001b[0m\n\u001b[0;32m    823\u001b[0m \u001b[38;5;28;01melse\u001b[39;00m:\n\u001b[0;32m    824\u001b[0m     result \u001b[38;5;241m=\u001b[39m MySQLResult(\u001b[38;5;28mself\u001b[39m)\n\u001b[1;32m--> 825\u001b[0m     result\u001b[38;5;241m.\u001b[39mread()\n\u001b[0;32m    826\u001b[0m \u001b[38;5;28mself\u001b[39m\u001b[38;5;241m.\u001b[39m_result \u001b[38;5;241m=\u001b[39m result\n\u001b[0;32m    827\u001b[0m \u001b[38;5;28;01mif\u001b[39;00m result\u001b[38;5;241m.\u001b[39mserver_status \u001b[38;5;129;01mis\u001b[39;00m \u001b[38;5;129;01mnot\u001b[39;00m \u001b[38;5;28;01mNone\u001b[39;00m:\n",
      "File \u001b[1;32mc:\\Users\\crvid\\anaconda3\\Lib\\site-packages\\pymysql\\connections.py:1199\u001b[0m, in \u001b[0;36mMySQLResult.read\u001b[1;34m(self)\u001b[0m\n\u001b[0;32m   1197\u001b[0m \u001b[38;5;28;01mdef\u001b[39;00m \u001b[38;5;21mread\u001b[39m(\u001b[38;5;28mself\u001b[39m):\n\u001b[0;32m   1198\u001b[0m     \u001b[38;5;28;01mtry\u001b[39;00m:\n\u001b[1;32m-> 1199\u001b[0m         first_packet \u001b[38;5;241m=\u001b[39m \u001b[38;5;28mself\u001b[39m\u001b[38;5;241m.\u001b[39mconnection\u001b[38;5;241m.\u001b[39m_read_packet()\n\u001b[0;32m   1201\u001b[0m         \u001b[38;5;28;01mif\u001b[39;00m first_packet\u001b[38;5;241m.\u001b[39mis_ok_packet():\n\u001b[0;32m   1202\u001b[0m             \u001b[38;5;28mself\u001b[39m\u001b[38;5;241m.\u001b[39m_read_ok_packet(first_packet)\n",
      "File \u001b[1;32mc:\\Users\\crvid\\anaconda3\\Lib\\site-packages\\pymysql\\connections.py:775\u001b[0m, in \u001b[0;36mConnection._read_packet\u001b[1;34m(self, packet_type)\u001b[0m\n\u001b[0;32m    773\u001b[0m     \u001b[38;5;28;01mif\u001b[39;00m \u001b[38;5;28mself\u001b[39m\u001b[38;5;241m.\u001b[39m_result \u001b[38;5;129;01mis\u001b[39;00m \u001b[38;5;129;01mnot\u001b[39;00m \u001b[38;5;28;01mNone\u001b[39;00m \u001b[38;5;129;01mand\u001b[39;00m \u001b[38;5;28mself\u001b[39m\u001b[38;5;241m.\u001b[39m_result\u001b[38;5;241m.\u001b[39munbuffered_active \u001b[38;5;129;01mis\u001b[39;00m \u001b[38;5;28;01mTrue\u001b[39;00m:\n\u001b[0;32m    774\u001b[0m         \u001b[38;5;28mself\u001b[39m\u001b[38;5;241m.\u001b[39m_result\u001b[38;5;241m.\u001b[39munbuffered_active \u001b[38;5;241m=\u001b[39m \u001b[38;5;28;01mFalse\u001b[39;00m\n\u001b[1;32m--> 775\u001b[0m     packet\u001b[38;5;241m.\u001b[39mraise_for_error()\n\u001b[0;32m    776\u001b[0m \u001b[38;5;28;01mreturn\u001b[39;00m packet\n",
      "File \u001b[1;32mc:\\Users\\crvid\\anaconda3\\Lib\\site-packages\\pymysql\\protocol.py:219\u001b[0m, in \u001b[0;36mMysqlPacket.raise_for_error\u001b[1;34m(self)\u001b[0m\n\u001b[0;32m    217\u001b[0m \u001b[38;5;28;01mif\u001b[39;00m DEBUG:\n\u001b[0;32m    218\u001b[0m     \u001b[38;5;28mprint\u001b[39m(\u001b[38;5;124m\"\u001b[39m\u001b[38;5;124merrno =\u001b[39m\u001b[38;5;124m\"\u001b[39m, errno)\n\u001b[1;32m--> 219\u001b[0m err\u001b[38;5;241m.\u001b[39mraise_mysql_exception(\u001b[38;5;28mself\u001b[39m\u001b[38;5;241m.\u001b[39m_data)\n",
      "File \u001b[1;32mc:\\Users\\crvid\\anaconda3\\Lib\\site-packages\\pymysql\\err.py:150\u001b[0m, in \u001b[0;36mraise_mysql_exception\u001b[1;34m(data)\u001b[0m\n\u001b[0;32m    148\u001b[0m \u001b[38;5;28;01mif\u001b[39;00m errorclass \u001b[38;5;129;01mis\u001b[39;00m \u001b[38;5;28;01mNone\u001b[39;00m:\n\u001b[0;32m    149\u001b[0m     errorclass \u001b[38;5;241m=\u001b[39m InternalError \u001b[38;5;28;01mif\u001b[39;00m errno \u001b[38;5;241m<\u001b[39m \u001b[38;5;241m1000\u001b[39m \u001b[38;5;28;01melse\u001b[39;00m OperationalError\n\u001b[1;32m--> 150\u001b[0m \u001b[38;5;28;01mraise\u001b[39;00m errorclass(errno, errval)\n",
      "\u001b[1;31mOperationalError\u001b[0m: (1060, \"Duplicate column name 'Monthly_Salary'\")"
     ]
    }
   ],
   "source": [
    "# Add a column to an existing table\n",
    "query = \"\"\"ALTER TABLE seniority\n",
    "        ADD COLUMN Monthly_Salary DECIMAL(10, 2);\n",
    "        \"\"\"\n",
    "\n",
    "cursor.execute(query)"
   ]
  },
  {
   "cell_type": "code",
   "execution_count": 26,
   "metadata": {},
   "outputs": [
    {
     "data": {
      "text/plain": [
       "0"
      ]
     },
     "execution_count": 26,
     "metadata": {},
     "output_type": "execute_result"
    }
   ],
   "source": [
    "# Create one more table\n",
    "query = \"\"\"CREATE TABLE IF NOT EXISTS satisfaction (\n",
    "        Satisfaction_ID INT AUTO_INCREMENT PRIMARY KEY,\n",
    "        Employee_ID INT,\n",
    "        Employee_Satisfaction_Score DECIMAL(3, 2),\n",
    "        Sick_Days INT,\n",
    "        Remote_Work_Frequency INT,\n",
    "        Team_Size INT,\n",
    "        Training_Hours INT,\n",
    "        Resigned BOOLEAN,\n",
    "        FOREIGN KEY (Employee_ID) REFERENCES employee(Employee_ID)\n",
    "        )\"\"\"\n",
    "\n",
    "cursor.execute(query)"
   ]
  },
  {
   "cell_type": "code",
   "execution_count": 27,
   "metadata": {},
   "outputs": [
    {
     "name": "stdout",
     "output_type": "stream",
     "text": [
      "('employee',)\n",
      "('satisfaction',)\n",
      "('seniority',)\n"
     ]
    }
   ],
   "source": [
    "# Step 7: Confirm the tables have been created\n",
    "cursor.execute(\"SHOW TABLES\")\n",
    "for table in cursor:\n",
    "    print(table)"
   ]
  },
  {
   "cell_type": "code",
   "execution_count": 31,
   "metadata": {},
   "outputs": [],
   "source": [
    "# Step 8: Comit and close the connection\n",
    "\"\"\" The Python Wrapper for MSQL has generated changes to the database which must now be committed. It's like \"Saving\" the changes made \"\"\"\n",
    "cnx.commit()\n",
    "\n",
    "\"\"\" The cursor object has done it's job \"\"\"\n",
    "cursor.close()\n",
    "\n",
    "\"\"\" and we now close the connection, you must always do this (good practice) or else the database might not be responsive to other connections. \"\"\"\n",
    "cnx.close() "
   ]
  }
 ],
 "metadata": {
  "kernelspec": {
   "display_name": "base",
   "language": "python",
   "name": "python3"
  },
  "language_info": {
   "codemirror_mode": {
    "name": "ipython",
    "version": 3
   },
   "file_extension": ".py",
   "mimetype": "text/x-python",
   "name": "python",
   "nbconvert_exporter": "python",
   "pygments_lexer": "ipython3",
   "version": "3.12.4"
  }
 },
 "nbformat": 4,
 "nbformat_minor": 2
}
