{
 "cells": [
  {
   "cell_type": "code",
   "execution_count": 2,
   "metadata": {},
   "outputs": [
    {
     "name": "stdout",
     "output_type": "stream",
     "text": [
      "New CSV file created: job_postings_by_sector_DE_aggregated.csv\n"
     ]
    }
   ],
   "source": [
    "import pandas as pd\n",
    "\n",
    "# Load the CSV file\n",
    "input_file = 'job_postings_by_sector_DE.csv'  # Replace with your file path\n",
    "df = pd.read_csv(input_file)\n",
    "\n",
    "# Convert the date column to datetime if it's not already in that format\n",
    "df['date'] = pd.to_datetime(df['date'])\n",
    "\n",
    "# Create a new column for the monthly data (only keep year and month)\n",
    "df['Month'] = df['date'].dt.to_period('M')\n",
    "\n",
    "# Group by display_name and Month, and calculate the average of indeed_job_postings_index\n",
    "monthly_aggregated = df.groupby(['display_name', 'Month']).agg({\n",
    "    'indeed_job_postings_index': 'mean'\n",
    "}).reset_index()\n",
    "\n",
    "# Convert the 'Month' column back to datetime, keeping the first day of each month\n",
    "monthly_aggregated['date'] = monthly_aggregated['Month'].dt.to_timestamp()\n",
    "\n",
    "# Add a constant column for jobcountry as 'DE'\n",
    "monthly_aggregated['jobcountry'] = 'DE'\n",
    "\n",
    "# Rearrange columns and rename them as required\n",
    "output_df = monthly_aggregated[['date', 'jobcountry', 'indeed_job_postings_index', 'display_name']]\n",
    "\n",
    "# Save the new DataFrame to a CSV file\n",
    "output_file = 'job_postings_by_sector_DE_aggregated.csv'  # Output path\n",
    "output_df.to_csv(output_file, index=False)\n",
    "\n",
    "print(f\"New CSV file created: {output_file}\")\n"
   ]
  },
  {
   "attachments": {},
   "cell_type": "markdown",
   "metadata": {},
   "source": [
    "Data file: https://www.kaggle.com/datasets/kimminh21/job-postings/data \n",
    "\n",
    "indeed_job_postings_index: In the file you provided, the indeed_job_postings_index parameter seems to represent a normalized or indexed value indicating the number of job postings from Indeed for a specific sector. The value is indexed over time, with each row representing data for a given month and sector. An index value around 100 suggests a baseline or reference point, while values above or below this number suggest relative increases or decreases in job postings compared to that baseline.\n",
    "\n",
    "For example: A value of 100.88 in February 2020 for \"Accounting\" suggests a level slightly above the baseline for job postings in that sector.\n",
    "\n",
    "Step 1: Aggregating daily data to monthly data \n",
    "Step 2: job_posting.db created / not important as the CSV file will be added \n",
    "Step 3: \n"
   ]
  },
  {
   "cell_type": "code",
   "execution_count": 3,
   "metadata": {},
   "outputs": [
    {
     "name": "stdout",
     "output_type": "stream",
     "text": [
      "<class 'pandas.core.frame.DataFrame'>\n",
      "RangeIndex: 2296 entries, 0 to 2295\n",
      "Data columns (total 4 columns):\n",
      " #   Column                     Non-Null Count  Dtype  \n",
      "---  ------                     --------------  -----  \n",
      " 0   date                       2296 non-null   object \n",
      " 1   jobcountry                 2296 non-null   object \n",
      " 2   indeed_job_postings_index  2296 non-null   float64\n",
      " 3   display_name               2296 non-null   object \n",
      "dtypes: float64(1), object(3)\n",
      "memory usage: 71.9+ KB\n",
      "None\n",
      "       indeed_job_postings_index\n",
      "count                2296.000000\n",
      "mean                  142.647285\n",
      "std                    46.061219\n",
      "min                    37.538710\n",
      "25%                   104.185968\n",
      "50%                   142.528226\n",
      "75%                   172.611452\n",
      "max                   335.344667\n",
      "date                         0\n",
      "jobcountry                   0\n",
      "indeed_job_postings_index    0\n",
      "display_name                 0\n",
      "dtype: int64\n",
      "         date jobcountry  indeed_job_postings_index display_name\n",
      "0  2020-02-01         DE                 100.881379   Accounting\n",
      "1  2020-03-01         DE                  97.552258   Accounting\n",
      "2  2020-04-01         DE                  82.365000   Accounting\n",
      "3  2020-05-01         DE                  78.710645   Accounting\n",
      "4  2020-06-01         DE                  79.868667   Accounting\n"
     ]
    }
   ],
   "source": [
    "import pandas as pd\n",
    "\n",
    "# Load the dataset\n",
    "file_path = 'job_postings_by_sector_DE_aggregated.csv'\n",
    "df = pd.read_csv(file_path)\n",
    "\n",
    "# Display basic information about the dataset\n",
    "print(df.info())\n",
    "print(df.describe())\n",
    "\n",
    "# Check for missing values\n",
    "print(df.isnull().sum())\n",
    "\n",
    "# Show the first few rows of the dataset\n",
    "print(df.head())\n"
   ]
  },
  {
   "cell_type": "code",
   "execution_count": 4,
   "metadata": {},
   "outputs": [
    {
     "name": "stdout",
     "output_type": "stream",
     "text": [
      "         date jobcountry  indeed_job_postings_index display_name\n",
      "0  2020-02-01         DE                 100.881379   Accounting\n",
      "1  2020-03-01         DE                  97.552258   Accounting\n",
      "2  2020-04-01         DE                  82.365000   Accounting\n",
      "3  2020-05-01         DE                  78.710645   Accounting\n",
      "4  2020-06-01         DE                  79.868667   Accounting\n"
     ]
    }
   ],
   "source": [
    "\n",
    "# creating a DB File to be imported \n",
    "import sqlite3\n",
    "\n",
    "# Connect to SQLite (or any other SQL engine you are using)\n",
    "conn = sqlite3.connect('job_postings.db')\n",
    "\n",
    "# Load the dataset into SQL (this will create a table in the database)\n",
    "df.to_sql('job_postings', conn, if_exists='replace', index=False)\n",
    "\n",
    "# Confirm the table has been created and data inserted\n",
    "query = \"SELECT * FROM job_postings LIMIT 5;\"\n",
    "print(pd.read_sql(query, conn))"
   ]
  },
  {
   "cell_type": "code",
   "execution_count": 5,
   "metadata": {},
   "outputs": [
    {
     "name": "stdout",
     "output_type": "stream",
     "text": [
      "                                    2020-02 MoM  2020-03 MoM  2020-04 MoM  \\\n",
      "display_name                                                                \n",
      "IT Operations & Helpdesk                    NaN    -2.329190   -14.790635   \n",
      "Information Design & Documentation          NaN    -3.132472   -17.249557   \n",
      "Software Development                        NaN    -3.927253   -14.060045   \n",
      "\n",
      "                                    2020-05 MoM  2020-06 MoM  2020-07 MoM  \\\n",
      "display_name                                                                \n",
      "IT Operations & Helpdesk              -1.554613     1.366314     2.055617   \n",
      "Information Design & Documentation    -7.670945     0.828042     2.456450   \n",
      "Software Development                  -3.786816     2.412760     2.380499   \n",
      "\n",
      "                                    2020-08 MoM  2020-09 MoM  2020-10 MoM  \\\n",
      "display_name                                                                \n",
      "IT Operations & Helpdesk               3.997910    -2.036803     2.585348   \n",
      "Information Design & Documentation     1.493875    -0.836582     3.734547   \n",
      "Software Development                   3.128727    -0.137640     3.294270   \n",
      "\n",
      "                                    2020-11 MoM  ...  2023-12 MoM  \\\n",
      "display_name                                     ...                \n",
      "IT Operations & Helpdesk               4.687251  ...    -0.191140   \n",
      "Information Design & Documentation     7.375325  ...    -4.686921   \n",
      "Software Development                   3.571830  ...    -2.504072   \n",
      "\n",
      "                                    2024-01 MoM  2024-02 MoM  2024-03 MoM  \\\n",
      "display_name                                                                \n",
      "IT Operations & Helpdesk               1.179951    -6.543267    -5.490616   \n",
      "Information Design & Documentation    -0.930707    -5.259326    -7.330200   \n",
      "Software Development                  -1.178428    -6.573449    -7.139246   \n",
      "\n",
      "                                    2024-04 MoM  2024-05 MoM  2024-06 MoM  \\\n",
      "display_name                                                                \n",
      "IT Operations & Helpdesk              -4.599388     0.681337    -1.989327   \n",
      "Information Design & Documentation    -4.946442    -4.876746    -2.345677   \n",
      "Software Development                  -4.977985    -2.926107    -3.888864   \n",
      "\n",
      "                                    2024-07 MoM  2024-08 MoM  2024-09 MoM  \n",
      "display_name                                                               \n",
      "IT Operations & Helpdesk              -2.634112    -0.764173    -5.143268  \n",
      "Information Design & Documentation    -1.996063    -0.650301    -4.062791  \n",
      "Software Development                  -3.032597    -1.410654    -4.304688  \n",
      "\n",
      "[3 rows x 56 columns]\n"
     ]
    },
    {
     "name": "stderr",
     "output_type": "stream",
     "text": [
      "/var/folders/0j/h4x8twq57394t3xmh53ddyv40000gn/T/ipykernel_8806/2134418910.py:11: SettingWithCopyWarning: \n",
      "A value is trying to be set on a copy of a slice from a DataFrame.\n",
      "Try using .loc[row_indexer,col_indexer] = value instead\n",
      "\n",
      "See the caveats in the documentation: https://pandas.pydata.org/pandas-docs/stable/user_guide/indexing.html#returning-a-view-versus-a-copy\n",
      "  filtered_data['date'] = pd.to_datetime(filtered_data['date'])\n"
     ]
    }
   ],
   "source": [
    "import pandas as pd\n",
    "\n",
    "# Step 1: Load the data from the CSV file\n",
    "data = pd.read_csv('job_postings_by_sector_DE_aggregated.csv')\n",
    "\n",
    "# Step 2: Filter the data for IT-related sectors\n",
    "it_sectors = ['IT Operations & Helpdesk', 'Information Design & Documentation', 'Software Development']\n",
    "filtered_data = data[data['display_name'].isin(it_sectors)]\n",
    "\n",
    "# Step 3: Convert the 'date' column to datetime format\n",
    "filtered_data['date'] = pd.to_datetime(filtered_data['date'])\n",
    "\n",
    "# Step 4: Sort the data by 'display_name' and 'date'\n",
    "filtered_data = filtered_data.sort_values(by=['display_name', 'date'])\n",
    "\n",
    "# Step 5: Calculate the month-over-month percentage change\n",
    "filtered_data['mom_percentage_change'] = filtered_data.groupby('display_name')['indeed_job_postings_index'].pct_change() * 100\n",
    "\n",
    "# Step 6: Pivot the table to display each month as a column\n",
    "pivot_table = filtered_data.pivot(index='display_name', columns='date', values='mom_percentage_change')\n",
    "\n",
    "# Step 7: Rename columns to 'YYYY-MM MoM' format\n",
    "pivot_table.columns = [f\"{col.strftime('%Y-%m')} MoM\" for col in pivot_table.columns]\n",
    "\n",
    "# Step 8: Save the result to a CSV file (optional) or display it\n",
    "pivot_table.to_csv('it_sectors_mom_percentage_change.csv')\n",
    "\n",
    "# To display the result instead of saving:\n",
    "print(pivot_table)\n"
   ]
  }
 ],
 "metadata": {
  "kernelspec": {
   "display_name": "Python 3",
   "language": "python",
   "name": "python3"
  },
  "language_info": {
   "codemirror_mode": {
    "name": "ipython",
    "version": 3
   },
   "file_extension": ".py",
   "mimetype": "text/x-python",
   "name": "python",
   "nbconvert_exporter": "python",
   "pygments_lexer": "ipython3",
   "version": "3.11.2"
  },
  "orig_nbformat": 4
 },
 "nbformat": 4,
 "nbformat_minor": 2
}
